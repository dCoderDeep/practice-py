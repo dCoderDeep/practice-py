{
 "cells": [
  {
   "cell_type": "code",
   "execution_count": null,
   "metadata": {},
   "outputs": [],
   "source": [
    "## LEETCODE PROBLEMS using stacks concept"
   ]
  },
  {
   "cell_type": "code",
   "execution_count": 19,
   "metadata": {},
   "outputs": [
    {
     "name": "stdout",
     "output_type": "stream",
     "text": [
      "Test Result 1: True\n",
      "Test Result 2: True\n",
      "Test Result 3: False\n",
      "Test Result 4: False\n",
      "Test Result 5: True\n"
     ]
    }
   ],
   "source": [
    "#Balanced bracket problem\n",
    "def isValid(s):\n",
    "    stack = []\n",
    "    mapping = {')': '(', '}': '{', ']': '['}\n",
    "\n",
    "    for char in s:\n",
    "        if char in mapping:\n",
    "            if stack and stack[-1] == mapping[char]:\n",
    "                stack.pop()\n",
    "            else:\n",
    "                return False\n",
    "        else:\n",
    "            stack.append(char)\n",
    "\n",
    "    return True if not stack else False\n",
    "\n",
    "# Test cases\n",
    "testcase1 = \"\"\n",
    "testcase2 = \"()[]{}\"\n",
    "testcase3 = \"(]\"\n",
    "testcase4 = \"([)]\"\n",
    "testcase5 = \"{[]}\"\n",
    "\n",
    "print(\"Test Result 1:\", isValid(testcase1))  # Output: True\n",
    "print(\"Test Result 2:\", isValid(testcase2))  # Output: True\n",
    "print(\"Test Result 3:\", isValid(testcase3))  # Output: False\n",
    "print(\"Test Result 4:\", isValid(testcase4))  # Output: False\n",
    "print(\"Test Result 5:\", isValid(testcase5))  # Output: True\n"
   ]
  },
  {
   "cell_type": "code",
   "execution_count": 3,
   "metadata": {},
   "outputs": [
    {
     "data": {
      "text/plain": [
       "'()()()'"
      ]
     },
     "execution_count": 3,
     "metadata": {},
     "output_type": "execute_result"
    }
   ],
   "source": [
    "# Remove Outermost Parentheses\n",
    "def removeOuterParentheses(s) -> str:\n",
    "        ans, cnt = [], 0\n",
    "        for ch in s:\n",
    "            if ch == '(' and cnt > 0: ans.append(ch)\n",
    "            if ch == ')' and cnt > 1: ans.append(ch)\n",
    "            cnt += 1 if ch == '(' else -1\n",
    "        return \"\".join(ans)\n",
    "removeOuterParentheses(\"(()())(())\")"
   ]
  }
 ],
 "metadata": {
  "kernelspec": {
   "display_name": "Python 3",
   "language": "python",
   "name": "python3"
  },
  "language_info": {
   "codemirror_mode": {
    "name": "ipython",
    "version": 3
   },
   "file_extension": ".py",
   "mimetype": "text/x-python",
   "name": "python",
   "nbconvert_exporter": "python",
   "pygments_lexer": "ipython3",
   "version": "3.11.4"
  }
 },
 "nbformat": 4,
 "nbformat_minor": 2
}
