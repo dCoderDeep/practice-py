{
 "cells": [
  {
   "cell_type": "code",
   "execution_count": 56,
   "metadata": {},
   "outputs": [],
   "source": [
    "#creates a new node\n",
    "class Node:\n",
    "    def __init__(self,value):\n",
    "        self.data = value\n",
    "        self.next = None\n",
    "# Define a Node class for the elements of the linked list\n",
    "class Node:\n",
    "    def __init__(self, data):\n",
    "        self.data = data\n",
    "        self.next = None\n",
    "\n",
    "# Define a LinkedList class to manage the linked list operations\n",
    "class LinkedList:\n",
    "    def __init__(self):\n",
    "        self.head = None  # Initialize an empty linked list with no head\n",
    "        self.n = 0  # Keep track of the number of elements in the linked list\n",
    "    \n",
    "    # Returns the length of the linked list\n",
    "    def __len__(self):\n",
    "        return self.n\n",
    "    \n",
    "    # Insert a new node at the beginning of the linked list (using the head)\n",
    "    def insert_head(self, value):\n",
    "        new_node = Node(value)  # Create a new Node\n",
    "        new_node.next = self.head  # Create a connection\n",
    "        self.head = new_node  # Reassign the head\n",
    "        self.n += 1  # Increment the size of the linked list\n",
    "\n",
    "    # Traverse and print the linked list\n",
    "    def __str__(self):\n",
    "        current = self.head\n",
    "        result = ''\n",
    "        while current != None:\n",
    "            result = result + str(current.data) + '->'\n",
    "            current = current.next\n",
    "        return result[:-2]  # Remove the extra '->' at the end\n",
    "    \n",
    "#######################################################################################\n",
    "\n",
    "    def replace_max(self,value):\n",
    "        temp = self.head\n",
    "        max = temp\n",
    "\n",
    "        while temp != None:\n",
    "            if temp.data > max.data:\n",
    "                max = temp\n",
    "            temp = temp.next\n",
    "        max.data = value\n",
    "\n",
    "    def sum_odd_nodes(self):\n",
    "        temp = self.head\n",
    "        count = 0\n",
    "        result = 0\n",
    "        while temp != None:\n",
    "            if count % 2 != 0:\n",
    "                result = result + temp.data\n",
    "            count += 1\n",
    "            temp = temp.next\n",
    "        print(result)\n",
    "\n",
    "    \n",
    "    def reverse(self):\n",
    "        prev_node = None\n",
    "        curr_node =self.head\n",
    "        while curr_node != None:\n",
    "            new_node = curr_node.next\n",
    "            curr_node.next = prev_node\n",
    "            prev_node = curr_node\n",
    "            curr_node = new_node\n",
    "        self.head = prev_node"
   ]
  },
  {
   "cell_type": "code",
   "execution_count": 57,
   "metadata": {},
   "outputs": [],
   "source": [
    "L =LinkedList()"
   ]
  },
  {
   "cell_type": "code",
   "execution_count": 58,
   "metadata": {},
   "outputs": [],
   "source": [
    "L.insert_head(1)\n",
    "L.insert_head(20)\n",
    "L.insert_head(3)\n",
    "L.insert_head(0.4)\n",
    "L.insert_head(5)"
   ]
  },
  {
   "cell_type": "code",
   "execution_count": 59,
   "metadata": {},
   "outputs": [
    {
     "name": "stdout",
     "output_type": "stream",
     "text": [
      "5->0.4->3->20->1\n"
     ]
    }
   ],
   "source": [
    "print(L)"
   ]
  },
  {
   "cell_type": "code",
   "execution_count": 60,
   "metadata": {},
   "outputs": [],
   "source": [
    "L.reverse()"
   ]
  },
  {
   "cell_type": "code",
   "execution_count": 61,
   "metadata": {},
   "outputs": [
    {
     "name": "stdout",
     "output_type": "stream",
     "text": [
      "1->20->3->0.4->5\n"
     ]
    }
   ],
   "source": [
    "print(L)"
   ]
  }
 ],
 "metadata": {
  "kernelspec": {
   "display_name": "Python 3",
   "language": "python",
   "name": "python3"
  },
  "language_info": {
   "codemirror_mode": {
    "name": "ipython",
    "version": 3
   },
   "file_extension": ".py",
   "mimetype": "text/x-python",
   "name": "python",
   "nbconvert_exporter": "python",
   "pygments_lexer": "ipython3",
   "version": "3.11.4"
  }
 },
 "nbformat": 4,
 "nbformat_minor": 2
}
