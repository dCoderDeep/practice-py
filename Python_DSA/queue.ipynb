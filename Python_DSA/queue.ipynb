{
 "cells": [
  {
   "cell_type": "code",
   "execution_count": 71,
   "metadata": {},
   "outputs": [],
   "source": [
    "class Node:\n",
    "    def __init__(self,data):\n",
    "        self.data = data\n",
    "        self.next=None\n",
    "\n",
    "class Queue:\n",
    "    def __init__(self):\n",
    "        self.front=None\n",
    "        self.rear=None\n",
    "\n",
    "    def enqueue(self,value):\n",
    "        new_node = Node(value)\n",
    "        if self.rear == None:\n",
    "            self.rear = new_node\n",
    "            self.front = new_node\n",
    "        else:\n",
    "            self.rear.next = new_node\n",
    "            self.rear = new_node\n",
    "\n",
    "    def dequeue(self):\n",
    "        if self.front == None:\n",
    "            return \"Empty queue\"\n",
    "        else:\n",
    "            self.front = self.front.next\n",
    "\n",
    "    def isempty(self):\n",
    "        return self.front == None\n",
    "    \n",
    "    def size(self):\n",
    "        temp = self.front\n",
    "        count=0\n",
    "        while temp != None:\n",
    "            count+=1\n",
    "            temp = temp.next\n",
    "        return count\n",
    "\n",
    "    def traverse(self):\n",
    "        temp = self.front\n",
    "        while temp != None:\n",
    "            print(temp.data, end=' ')\n",
    "            temp = temp.next\n",
    "\n",
    "    def front_item(self):\n",
    "        if self.front == None:\n",
    "            return \"Empty queue\"\n",
    "        else:\n",
    "            return self.front.data\n",
    "\n",
    "    def rear_item(self):\n",
    "        if self.rear == None:\n",
    "            return \"Empty queue\"\n",
    "        else:\n",
    "            return self.rear.data"
   ]
  },
  {
   "cell_type": "code",
   "execution_count": 72,
   "metadata": {},
   "outputs": [],
   "source": [
    "q=Queue()"
   ]
  },
  {
   "cell_type": "code",
   "execution_count": 73,
   "metadata": {},
   "outputs": [],
   "source": [
    "q.enqueue(8)\n",
    "q.enqueue(6)\n",
    "q.enqueue(9)\n",
    "q.enqueue(45)\n",
    "q.enqueue(1)"
   ]
  },
  {
   "cell_type": "code",
   "execution_count": 74,
   "metadata": {},
   "outputs": [
    {
     "name": "stdout",
     "output_type": "stream",
     "text": [
      "8 6 9 45 1 "
     ]
    }
   ],
   "source": [
    "q.traverse()"
   ]
  },
  {
   "cell_type": "code",
   "execution_count": 75,
   "metadata": {},
   "outputs": [
    {
     "data": {
      "text/plain": [
       "False"
      ]
     },
     "execution_count": 75,
     "metadata": {},
     "output_type": "execute_result"
    }
   ],
   "source": [
    "q.isempty()"
   ]
  },
  {
   "cell_type": "code",
   "execution_count": 76,
   "metadata": {},
   "outputs": [
    {
     "data": {
      "text/plain": [
       "5"
      ]
     },
     "execution_count": 76,
     "metadata": {},
     "output_type": "execute_result"
    }
   ],
   "source": [
    "q.size()"
   ]
  },
  {
   "cell_type": "code",
   "execution_count": 77,
   "metadata": {},
   "outputs": [],
   "source": [
    "q.dequeue()"
   ]
  },
  {
   "cell_type": "code",
   "execution_count": 78,
   "metadata": {},
   "outputs": [
    {
     "name": "stdout",
     "output_type": "stream",
     "text": [
      "6 9 45 1 "
     ]
    }
   ],
   "source": [
    "q.traverse()"
   ]
  },
  {
   "cell_type": "code",
   "execution_count": 79,
   "metadata": {},
   "outputs": [
    {
     "data": {
      "text/plain": [
       "6"
      ]
     },
     "execution_count": 79,
     "metadata": {},
     "output_type": "execute_result"
    }
   ],
   "source": [
    "q.front_item()"
   ]
  },
  {
   "cell_type": "code",
   "execution_count": 80,
   "metadata": {},
   "outputs": [
    {
     "data": {
      "text/plain": [
       "1"
      ]
     },
     "execution_count": 80,
     "metadata": {},
     "output_type": "execute_result"
    }
   ],
   "source": [
    "q.rear_item()"
   ]
  }
 ],
 "metadata": {
  "kernelspec": {
   "display_name": "Python 3",
   "language": "python",
   "name": "python3"
  },
  "language_info": {
   "codemirror_mode": {
    "name": "ipython",
    "version": 3
   },
   "file_extension": ".py",
   "mimetype": "text/x-python",
   "name": "python",
   "nbconvert_exporter": "python",
   "pygments_lexer": "ipython3",
   "version": "3.11.4"
  }
 },
 "nbformat": 4,
 "nbformat_minor": 2
}
