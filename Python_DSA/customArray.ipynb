{
 "cells": [
  {
   "cell_type": "code",
   "execution_count": 1,
   "metadata": {},
   "outputs": [],
   "source": [
    "import ctypes  # Importing the ctypes library for C data types\n",
    "\n",
    "class MyList:\n",
    "    def __init__(self):\n",
    "        self.size = 1  # Initial size of the list\n",
    "        self.n = 0  # Number of elements currently in the list\n",
    "        # Create a C type array with size = self.size\n",
    "        self.A = self.__makeArray(self.size)  # Initialize the array\n",
    "\n",
    "    def __len__(self):\n",
    "        return self.n  # Return the number of elements in the list\n",
    "\n",
    "    def __str__(self) -> str:\n",
    "        result = ''\n",
    "        for i in range(self.n):\n",
    "            result = result + str(self.A[i]) + \",\"  # Building a string representation of the list\n",
    "        return \"[\" + result[:-1] + \"]\"  # Returning the list as a string\n",
    "\n",
    "    def __getitem__(self, index):\n",
    "        if type(index) == int:\n",
    "            if index >= 0:\n",
    "                # Positive indexing\n",
    "                return self.A[index] if index < self.n else \"IndexError: Index out of range\"\n",
    "            else:\n",
    "                # Negative indexing\n",
    "                return self.A[self.n + index] if abs(index) <= self.n else \"IndexError: Index out of range\"\n",
    "        else:\n",
    "            return \"TypeError: Index must be an integer\"\n",
    "\n",
    "    def append(self, item):\n",
    "        if self.size == self.n:\n",
    "            self.__resize(self.size * 2)  # Double the size of the list if it's full\n",
    "        # Append the new item to the list\n",
    "        self.A[self.n] = item\n",
    "        self.n += 1  # Increment the number of elements in the list\n",
    "\n",
    "    def pop(self):\n",
    "        if self.n == 0:\n",
    "            print(\"Empty List\")  # If the list is empty, print a message\n",
    "        print(self.A[self.n - 1])  # Print the last element of the list\n",
    "        self.n = self.n - 1  # Decrement the number of elements\n",
    "\n",
    "    def clear(self):\n",
    "        self.n = 0  # Set the number of elements to 0\n",
    "        self.size = 1  # Reset the size of the list to 1\n",
    "\n",
    "    def find(self, item):\n",
    "        for i in range(self.n):\n",
    "            if self.A[i] == item:\n",
    "                return i  # Return the index of the found item\n",
    "        return 'ValueError: Not in list.'  # Return an error if the item is not in the list\n",
    "\n",
    "    def insert(self, position, item):\n",
    "        if self.size == self.n:\n",
    "            self.__resize(self.size * 2)  # Double the size of the list if it's full\n",
    "        for i in range(self.n, position, -1):\n",
    "            self.A[i] = self.A[i - 1]  # Shift elements to make space for the new item\n",
    "\n",
    "        self.A[position] = item  # Insert the new item at the specified position\n",
    "        self.n += 1  # Increment the number of elements in the list\n",
    "\n",
    "    def __delitem__(self, position):\n",
    "        if 0 < position < self.n:\n",
    "            for i in range(position, self.n - 1):\n",
    "                self.A[i] = self.A[i + 1]  # Remove the item at the specified position\n",
    "            self.n -= 1  # Decrement the number of elements\n",
    "\n",
    "    def min(self):\n",
    "        # Check if the list is empty\n",
    "        if self.n == 0:\n",
    "            return \"List is empty\"\n",
    "        min_value = self.A[0]  # Assume the first element as the minimum initially\n",
    "        for i in range(1, self.n): # Start from the second element\n",
    "            if self.A[i] < min_value:\n",
    "                min_value = self.A[i] # Update the minimum value if a smaller element is found\n",
    "        return min_value\n",
    "\n",
    "    def max(self):\n",
    "        # Check if the list is empty\n",
    "        if self.n == 0:\n",
    "            return \"List is empty\"\n",
    "        max_value = self.A[0]  # Assume the first element as the maximum initially\n",
    "        for i in range(1, self.n): # Start from the second element\n",
    "            if self.A[i] > max_value:\n",
    "                max_value = self.A[i] # Update the minimum value if a smaller element is found\n",
    "        return max_value\n",
    "    \n",
    "    def sum(self):\n",
    "        if self.n == 0:\n",
    "            return 0  # If the list is empty, return 0 as the sum\n",
    "        sum = 0\n",
    "        for i in range(1, self.n):\n",
    "            sum = sum + self.A[i] # Summing up all elements in the list\n",
    "        return sum\n",
    "    \n",
    "    def extend(self,other_list):\n",
    "        for item in other_list:\n",
    "            self.append(item) #Calling the append function to add elements of the other list\n",
    "\n",
    "    def negative_indexing(self,index):\n",
    "        if -self.n <= index <= -1:\n",
    "            return self.A[self.n + index]  # Access the element using negative indexing\n",
    "        elif index == 0:\n",
    "            return \"IndexError: Index out of range\"  # Return an error if index is 0\n",
    "        else:\n",
    "            return \"IndexError: Absolute value of index is out of range\"\n",
    "\n",
    "    def __resize(self, new_capacity):\n",
    "        # Create a new array with size = new_capacity\n",
    "        B = self.__makeArray(new_capacity)\n",
    "        self.size = new_capacity  # Update the size of the list\n",
    "\n",
    "        # Copy the content of A to B\n",
    "        for i in range(self.n):\n",
    "            B[i] = self.A[i]  # Copy elements to the new array\n",
    "        self.A = B  # Update the list with the new array\n",
    "\n",
    "    def remove(self, item):\n",
    "        pos = self.find(item)  # Find the position of the item\n",
    "        if type(pos) == int:\n",
    "            self.__delitem__(pos)  # Remove the item if found\n",
    "        else:\n",
    "            return pos  # Return an error if the item is not found\n",
    "\n",
    "    def sort(self):\n",
    "        for i in range(0, self.n):\n",
    "            for j in range(0, self.n - i - 1):\n",
    "                if self.A[j] > self.A[j + 1]:\n",
    "                    self.A[j], self.A[j + 1] = self.A[j + 1], self.A[j]  # Sort the list\n",
    "\n",
    "    def slicing(self, start=None, stop=None, step=1):\n",
    "        # Handle start and stop values if not provided\n",
    "        if start is None:\n",
    "            start = 0\n",
    "        if stop is None:\n",
    "            stop = self.n\n",
    "\n",
    "        # Ensure start and stop values are within bounds\n",
    "        start = max(0, min(self.n, start))\n",
    "        stop = max(0, min(self.n, stop))\n",
    "\n",
    "        # Calculate the number of elements in the sliced list\n",
    "        sliced_size = (stop - start + step - 1) // step\n",
    "\n",
    "        # Create a new list with the calculated size\n",
    "        sliced_list = MyList()\n",
    "        sliced_list.size = sliced_size\n",
    "        sliced_list.A = sliced_list.__makeArray(sliced_size)\n",
    "\n",
    "        # Copy elements to the sliced list with the specified step\n",
    "        for i in range(0, sliced_size):\n",
    "            sliced_list.A[i] = self.A[start + i * step]\n",
    "\n",
    "        sliced_list.n = sliced_size  # Update the number of elements in the sliced list\n",
    "        return sliced_list\n",
    "\n",
    "    def __makeArray(self, capacity):\n",
    "        # Create a C type array (static, referential) with size 'capacity'\n",
    "        return (capacity * ctypes.py_object)()  # Return an array of the specified capacity\n"
   ]
  },
  {
   "cell_type": "code",
   "execution_count": 2,
   "metadata": {},
   "outputs": [
    {
     "name": "stdout",
     "output_type": "stream",
     "text": [
      "<class '__main__.MyList'>\n"
     ]
    },
    {
     "data": {
      "text/plain": [
       "<__main__.MyList at 0x22b96b94ad0>"
      ]
     },
     "execution_count": 2,
     "metadata": {},
     "output_type": "execute_result"
    }
   ],
   "source": [
    "L=MyList()\n",
    "print(type(L)) # this shows that L is object of the class MyList\n",
    "L #this prints the memory address of the list"
   ]
  },
  {
   "cell_type": "code",
   "execution_count": 3,
   "metadata": {},
   "outputs": [],
   "source": [
    "L.append(54)\n",
    "L.append(3.4)\n",
    "L.append(34)\n",
    "L.append(64)\n",
    "L.append(44)\n",
    "L.append(6)\n",
    "L.append(5)\n",
    "L.append(76)\n",
    "L.append(5.6)\n",
    "L.append(2)\n",
    "L.append(5.5)"
   ]
  },
  {
   "cell_type": "code",
   "execution_count": 4,
   "metadata": {},
   "outputs": [
    {
     "name": "stdout",
     "output_type": "stream",
     "text": [
      "Length of L: 11\n",
      "[54,3.4,34,64,44,6,5,76,5.6,2,5.5]\n"
     ]
    }
   ],
   "source": [
    "print(\"Length of L:\",len(L))\n",
    "print(L)"
   ]
  },
  {
   "cell_type": "code",
   "execution_count": 5,
   "metadata": {},
   "outputs": [
    {
     "data": {
      "text/plain": [
       "'ValueError: Not in list.'"
      ]
     },
     "execution_count": 5,
     "metadata": {},
     "output_type": "execute_result"
    }
   ],
   "source": [
    "L.find(78)"
   ]
  },
  {
   "cell_type": "code",
   "execution_count": 6,
   "metadata": {},
   "outputs": [
    {
     "name": "stdout",
     "output_type": "stream",
     "text": [
      "[54,heeeelloooooo,3.4,34,64,44,6,5,76,5.6,2,5.5]\n"
     ]
    }
   ],
   "source": [
    "L.insert(1,\"heeeelloooooo\")\n",
    "print(L)"
   ]
  },
  {
   "cell_type": "code",
   "execution_count": 7,
   "metadata": {},
   "outputs": [],
   "source": [
    "\n",
    "del L[1]"
   ]
  },
  {
   "cell_type": "code",
   "execution_count": 8,
   "metadata": {},
   "outputs": [
    {
     "name": "stdout",
     "output_type": "stream",
     "text": [
      "[54,3.4,34,64,44,6,5,76,5.6,2,5.5]\n"
     ]
    }
   ],
   "source": [
    "print(L)"
   ]
  },
  {
   "cell_type": "code",
   "execution_count": 9,
   "metadata": {},
   "outputs": [
    {
     "name": "stdout",
     "output_type": "stream",
     "text": [
      "[54,3.4,34,64,44,6,5,76,5.6,2,5.5]\n"
     ]
    }
   ],
   "source": [
    "print(L)"
   ]
  },
  {
   "cell_type": "code",
   "execution_count": 10,
   "metadata": {},
   "outputs": [
    {
     "name": "stdout",
     "output_type": "stream",
     "text": [
      "[2,3.4,5,5.5,5.6,6,34,44,54,64,76]\n"
     ]
    }
   ],
   "source": [
    "L.sort()\n",
    "print(L)"
   ]
  },
  {
   "cell_type": "code",
   "execution_count": 11,
   "metadata": {},
   "outputs": [
    {
     "data": {
      "text/plain": [
       "2"
      ]
     },
     "execution_count": 11,
     "metadata": {},
     "output_type": "execute_result"
    }
   ],
   "source": [
    "L.min()"
   ]
  },
  {
   "cell_type": "code",
   "execution_count": 12,
   "metadata": {},
   "outputs": [
    {
     "data": {
      "text/plain": [
       "76"
      ]
     },
     "execution_count": 12,
     "metadata": {},
     "output_type": "execute_result"
    }
   ],
   "source": [
    "L.max()"
   ]
  },
  {
   "cell_type": "code",
   "execution_count": 13,
   "metadata": {},
   "outputs": [
    {
     "data": {
      "text/plain": [
       "297.5"
      ]
     },
     "execution_count": 13,
     "metadata": {},
     "output_type": "execute_result"
    }
   ],
   "source": [
    "L.sum()"
   ]
  },
  {
   "cell_type": "code",
   "execution_count": 14,
   "metadata": {},
   "outputs": [
    {
     "name": "stdout",
     "output_type": "stream",
     "text": [
      "[2,3.4,5,5.5,5.6,6,34,44,54,64,76,1.1,2.3,4.5,3.2]\n"
     ]
    }
   ],
   "source": [
    "p=(1.1,2.3,4.5,3.2)\n",
    "L.extend(p)\n",
    "print(L)"
   ]
  },
  {
   "cell_type": "code",
   "execution_count": 15,
   "metadata": {},
   "outputs": [
    {
     "name": "stdout",
     "output_type": "stream",
     "text": [
      "4.5\n",
      "4.5\n"
     ]
    }
   ],
   "source": [
    "print(L.negative_indexing(-2))\n",
    "print(L[-2])"
   ]
  },
  {
   "cell_type": "code",
   "execution_count": 16,
   "metadata": {},
   "outputs": [
    {
     "name": "stdout",
     "output_type": "stream",
     "text": [
      "[5,5.5,5.6,6,34,44]\n"
     ]
    }
   ],
   "source": [
    "sliced_result = L.slicing(2,8)\n",
    "print(sliced_result)"
   ]
  }
 ],
 "metadata": {
  "kernelspec": {
   "display_name": "Python 3",
   "language": "python",
   "name": "python3"
  },
  "language_info": {
   "codemirror_mode": {
    "name": "ipython",
    "version": 3
   },
   "file_extension": ".py",
   "mimetype": "text/x-python",
   "name": "python",
   "nbconvert_exporter": "python",
   "pygments_lexer": "ipython3",
   "version": "3.11.4"
  }
 },
 "nbformat": 4,
 "nbformat_minor": 2
}
