{
 "cells": [
  {
   "cell_type": "code",
   "execution_count": 120,
   "metadata": {},
   "outputs": [],
   "source": [
    "#creates a new node\n",
    "class Node:\n",
    "    def __init__(self,value):\n",
    "        self.data = value\n",
    "        self.next = None"
   ]
  },
  {
   "cell_type": "code",
   "execution_count": 140,
   "metadata": {},
   "outputs": [],
   "source": [
    "#creates a linked list\n",
    "class LinkedList:\n",
    "    def __init__(self):\n",
    "        self.head = None\n",
    "        self.n = 0\n",
    "    \n",
    "    #returns length of the list\n",
    "    def __len__(self):\n",
    "        return self.n\n",
    "    \n",
    "    #INSERT USING HEAD\n",
    "    def insert_head(self,value):\n",
    "        #create a new Node\n",
    "        new_node = Node(value)\n",
    "        #create a connection\n",
    "        new_node.next = self.head\n",
    "        #reassign the head\n",
    "        self.head = new_node\n",
    "        #increment the n\n",
    "        self.n = self.n + 1\n",
    "\n",
    "    #TRAVERSING / print \n",
    "    def __str__(self):\n",
    "        current = self.head\n",
    "        result =''\n",
    "        while current != None:\n",
    "            result = result + str(current.data) + '->'\n",
    "            current = current.next\n",
    "        return result[:-2]\n",
    "    \n",
    "    #INSERTING FROM TAIL / append\n",
    "    def append(self,value):\n",
    "        new_node = Node(value)\n",
    "        if self.head == None: #if the list is already empty means if the head is none then make it as first node\n",
    "            self.head = new_node\n",
    "            self.n+=1\n",
    "            return\n",
    "        current = self.head\n",
    "        while current.next != None:\n",
    "            current = current.next\n",
    "        #you are at the last node\n",
    "        current.next = new_node\n",
    "        self.n+=1\n",
    "    def insert_after(self,after,value):\n",
    "        new_node = Node(value)\n",
    "        curr = self.head\n",
    "        while curr != None:\n",
    "            if curr.data == after:\n",
    "                break\n",
    "            curr=curr.next\n",
    "#case1- break -> item found -> curr is not None\n",
    "        if curr != None:\n",
    "            new_node.next = curr.next\n",
    "            curr.next = new_node\n",
    "            self.n+=1\n",
    "#case 2- the loop worked till the last element -> item not found -> curr is None\n",
    "        else:\n",
    "            return \"Item not found\"\n",
    "    \n",
    "    def clear(self):\n",
    "        self.head = None\n",
    "        self.n=0\n",
    "    def delete_head(self):\n",
    "        if self.head == None:\n",
    "            return \"Empty List\"\n",
    "        self.head = self.head.next\n",
    "        self.n-=1\n",
    "    def pop(self):\n",
    "        if self.head == None:\n",
    "            return \"Empty Linked List\"\n",
    "        curr =self.head\n",
    "        if curr.next == None:\n",
    "            return self.delete_head()\n",
    "        while curr.next.next != None:\n",
    "            curr =curr.next\n",
    "        #curr is in last 2nd Node\n",
    "        curr.next=None\n",
    "        self.n-=1\n",
    "    def remove(self, value):\n",
    "        if self.head ==None:\n",
    "            return \"Empty LL\"\n",
    "        if self.head.data == value:\n",
    "            return self.delete_head()\n",
    "        curr = self.head\n",
    "        while curr.next!= None:\n",
    "            if curr.next.data == value:\n",
    "                break\n",
    "            curr = curr.next\n",
    "        #Case1:Item Found\n",
    "        if curr.next == None:\n",
    "            return \"Item not Found\"\n",
    "        else:\n",
    "            curr.next = curr.next.next\n",
    "        #Case2:Item not found\n",
    "\n",
    "    def search(self, item):\n",
    "        curr = self.head\n",
    "        pos = 0\n",
    "        while curr!= None:\n",
    "            if curr.data == item:\n",
    "                return pos\n",
    "            curr = curr.next\n",
    "            pos+=1\n",
    "        return \"Item not found\"\n",
    "    \n",
    "    def __getitem__(self, index):\n",
    "        curr =self.head\n",
    "        pos = 0\n",
    "        while curr!= None:\n",
    "            if pos == index:\n",
    "                return curr.data\n",
    "            curr = curr.next\n",
    "            pos += 1\n",
    "        return \"index error\""
   ]
  },
  {
   "cell_type": "code",
   "execution_count": 141,
   "metadata": {},
   "outputs": [],
   "source": [
    "L =LinkedList()"
   ]
  },
  {
   "cell_type": "code",
   "execution_count": 142,
   "metadata": {},
   "outputs": [],
   "source": [
    "L.insert_head(1)\n",
    "L.insert_head(2)\n",
    "L.insert_head(3)\n",
    "L.insert_head(4)\n",
    "L.insert_head(5)"
   ]
  },
  {
   "cell_type": "code",
   "execution_count": 143,
   "metadata": {},
   "outputs": [
    {
     "data": {
      "text/plain": [
       "'index error'"
      ]
     },
     "execution_count": 143,
     "metadata": {},
     "output_type": "execute_result"
    }
   ],
   "source": [
    "L[10]"
   ]
  }
 ],
 "metadata": {
  "kernelspec": {
   "display_name": "Python 3",
   "language": "python",
   "name": "python3"
  },
  "language_info": {
   "codemirror_mode": {
    "name": "ipython",
    "version": 3
   },
   "file_extension": ".py",
   "mimetype": "text/x-python",
   "name": "python",
   "nbconvert_exporter": "python",
   "pygments_lexer": "ipython3",
   "version": "3.11.4"
  }
 },
 "nbformat": 4,
 "nbformat_minor": 2
}
