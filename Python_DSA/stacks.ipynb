{
 "cells": [
  {
   "cell_type": "code",
   "execution_count": 55,
   "metadata": {},
   "outputs": [],
   "source": [
    "class Node:\n",
    "    def __init__(self, data) -> None:\n",
    "        self.data = data\n",
    "        self.next = None\n",
    "\n",
    "class Stack:\n",
    "    def __init__(self) -> None:\n",
    "        # Initialize an empty stack with the top pointer set to None and size to 0\n",
    "        self.top = None\n",
    "        self.n = 0\n",
    "\n",
    "    def isempty(self) -> bool:\n",
    "        # Check if the stack is empty\n",
    "        return self.top == None\n",
    "    \n",
    "    def push(self, value) -> None:\n",
    "        # Add a new node with the given value to the top of the stack\n",
    "        new_node = Node(value)\n",
    "        new_node.next = self.top\n",
    "        self.top = new_node\n",
    "        self.n += 1\n",
    "\n",
    "    def __str__(self) -> str:\n",
    "        # Represent the stack as a string for easy printing\n",
    "        temp = self.top\n",
    "        result = ''\n",
    "        while temp != None:\n",
    "            result = result + str(temp.data) + '->'\n",
    "            temp = temp.next\n",
    "        return result[:-2]  # Remove the extra '->' at the end\n",
    "\n",
    "    def peek(self) -> str:\n",
    "        # Return the value of the top element without removing it\n",
    "        if self.isempty():\n",
    "            return \"Stack is empty\"\n",
    "        else: \n",
    "            return self.top.data\n",
    "        \n",
    "    def pop(self) -> str:\n",
    "        # Remove and return the top element from the stack\n",
    "        if self.isempty():\n",
    "            return \"Stack is empty\"\n",
    "        else:\n",
    "            data = self.top.data\n",
    "            self.top = self.top.next\n",
    "            self.n -= 1\n",
    "            return data\n",
    "\n",
    "    def __len__(self):\n",
    "        # Return the length (number of elements) of the stack\n",
    "        return self.n"
   ]
  },
  {
   "cell_type": "code",
   "execution_count": 56,
   "metadata": {},
   "outputs": [],
   "source": [
    "s=Stack()"
   ]
  },
  {
   "cell_type": "code",
   "execution_count": 57,
   "metadata": {},
   "outputs": [
    {
     "data": {
      "text/plain": [
       "True"
      ]
     },
     "execution_count": 57,
     "metadata": {},
     "output_type": "execute_result"
    }
   ],
   "source": [
    "s.isempty()"
   ]
  },
  {
   "cell_type": "code",
   "execution_count": 58,
   "metadata": {},
   "outputs": [],
   "source": [
    "s.push(2)\n",
    "s.push(3)\n",
    "s.push(4)\n",
    "s.push(5)"
   ]
  },
  {
   "cell_type": "code",
   "execution_count": 59,
   "metadata": {},
   "outputs": [
    {
     "data": {
      "text/plain": [
       "False"
      ]
     },
     "execution_count": 59,
     "metadata": {},
     "output_type": "execute_result"
    }
   ],
   "source": [
    "s.isempty()"
   ]
  },
  {
   "cell_type": "code",
   "execution_count": 60,
   "metadata": {},
   "outputs": [
    {
     "data": {
      "text/plain": [
       "5"
      ]
     },
     "execution_count": 60,
     "metadata": {},
     "output_type": "execute_result"
    }
   ],
   "source": [
    "s.peek()"
   ]
  },
  {
   "cell_type": "code",
   "execution_count": 61,
   "metadata": {},
   "outputs": [
    {
     "data": {
      "text/plain": [
       "5"
      ]
     },
     "execution_count": 61,
     "metadata": {},
     "output_type": "execute_result"
    }
   ],
   "source": [
    "s.pop()"
   ]
  },
  {
   "cell_type": "code",
   "execution_count": 62,
   "metadata": {},
   "outputs": [
    {
     "name": "stdout",
     "output_type": "stream",
     "text": [
      "4->3->2\n"
     ]
    }
   ],
   "source": [
    "print(s)"
   ]
  },
  {
   "cell_type": "code",
   "execution_count": 63,
   "metadata": {},
   "outputs": [
    {
     "name": "stdout",
     "output_type": "stream",
     "text": [
      "3\n"
     ]
    }
   ],
   "source": [
    "print(len(s))"
   ]
  },
  {
   "cell_type": "code",
   "execution_count": 64,
   "metadata": {},
   "outputs": [],
   "source": [
    "#Reverse a string\n",
    "def reverse_string(text):\n",
    "    s= Stack()\n",
    "    result = ''\n",
    "    for i in text:\n",
    "        s.push(i)\n",
    "\n",
    "    while not s.isempty():\n",
    "        result = result +s.pop()\n",
    "    \n",
    "    print(result)"
   ]
  },
  {
   "cell_type": "code",
   "execution_count": 65,
   "metadata": {},
   "outputs": [
    {
     "name": "stdout",
     "output_type": "stream",
     "text": [
      "olleH\n"
     ]
    }
   ],
   "source": [
    "reverse_string(\"Hello\")"
   ]
  },
  {
   "cell_type": "code",
   "execution_count": 66,
   "metadata": {},
   "outputs": [],
   "source": [
    "#Undo and redo\n",
    "def text_editor(text, pattern):\n",
    "# Create two stacks, 'u' and 'r'\n",
    "    u = Stack()  # 'u' stack represents the current text\n",
    "    r = Stack()  # 'r' stack represents the removed characters\n",
    "\n",
    "\n",
    "    # Push each character from the 'text' into the 'u' stack\n",
    "    for i in text:\n",
    "        u.push(i)\n",
    "    \n",
    "    \n",
    "    # Iterate through each character in the 'pattern'\n",
    "    for i in pattern:\n",
    "        if i == 'u':\n",
    "            # If the character is 'u', pop from 'u' and push to 'r'\n",
    "            data = u.pop()\n",
    "            r.push(data)\n",
    "        else:\n",
    "            # If the character is not 'u', pop from 'r' and push to 'u'\n",
    "            data = r.pop()\n",
    "            u.push(data)\n",
    "\n",
    "    # Reconstruct the final text by popping from 'u'\n",
    "    res = ''\n",
    "    while not u.isempty():\n",
    "        res = u.pop() + res\n",
    "    print(res)            \n"
   ]
  },
  {
   "cell_type": "code",
   "execution_count": 67,
   "metadata": {},
   "outputs": [
    {
     "name": "stdout",
     "output_type": "stream",
     "text": [
      "Deep\n"
     ]
    }
   ],
   "source": [
    "text_editor(\"Deependra\",\"uuuuu\")"
   ]
  },
  {
   "cell_type": "code",
   "execution_count": 68,
   "metadata": {},
   "outputs": [],
   "source": [
    "#Celebrity problem\n",
    "L = [[0,0,1,1],\n",
    "     [0,0,1,0],\n",
    "     [0,0,0,0],\n",
    "     [0,0,1,0]]\n",
    "\n",
    "def find_the_celeb(L):\n",
    "    s= Stack()\n",
    "\n",
    "    for i in range(len(L)):\n",
    "        s.push(i)\n",
    "    \n",
    "    while len(s) >= 2:\n",
    "        i= s.pop()\n",
    "        j= s.pop()\n",
    "\n",
    "        if L[i][j]==0:\n",
    "            #j is not a celeb\n",
    "            s.push(i)\n",
    "        else:\n",
    "            #i is not a celeb\n",
    "            s.push(j)\n",
    "    celeb = s.pop()\n",
    "    for i in range(len(L)):\n",
    "        if i!=celeb:\n",
    "            if L[i][celeb]==0 or L[celeb][i]==1:\n",
    "                print(\"No one is a celebrity!\")\n",
    "                return\n",
    "    print(\"The celebrity is\", celeb)"
   ]
  },
  {
   "cell_type": "code",
   "execution_count": 69,
   "metadata": {},
   "outputs": [],
   "source": [
    "#Stacks Array Implementation\n",
    "class Stack:\n",
    "    def __init__(self,size):\n",
    "        self.size = size\n",
    "        self.stack = [None]*self.size\n",
    "        self.top = -1\n",
    "    \n",
    "    def push(self,value):\n",
    "        if self.top == self.size-1:\n",
    "            return \"OverflowError\"\n",
    "        else:\n",
    "            self.top+=1\n",
    "            self.stack[self.top] = value\n",
    "    \n",
    "    def pop(self):\n",
    "        if self.top == -1:\n",
    "            return \"Empty stack\"\n",
    "        else:\n",
    "            data = self.stack[self.top]\n",
    "            self.top-=1\n",
    "            print(data)\n",
    "    \n",
    "    def traverse(self):\n",
    "        for i in range(self.top+1):\n",
    "            print(self.stack[i],end=' ')"
   ]
  },
  {
   "cell_type": "code",
   "execution_count": 70,
   "metadata": {},
   "outputs": [],
   "source": [
    "s=Stack(3)"
   ]
  },
  {
   "cell_type": "code",
   "execution_count": 71,
   "metadata": {},
   "outputs": [
    {
     "data": {
      "text/plain": [
       "[None, None, None]"
      ]
     },
     "execution_count": 71,
     "metadata": {},
     "output_type": "execute_result"
    }
   ],
   "source": [
    "s.stack"
   ]
  },
  {
   "cell_type": "code",
   "execution_count": 72,
   "metadata": {},
   "outputs": [],
   "source": [
    "s.push(2)\n",
    "s.push(3)\n",
    "s.push(4)"
   ]
  },
  {
   "cell_type": "code",
   "execution_count": 73,
   "metadata": {},
   "outputs": [
    {
     "name": "stdout",
     "output_type": "stream",
     "text": [
      "4\n"
     ]
    }
   ],
   "source": [
    "s.pop()"
   ]
  },
  {
   "cell_type": "code",
   "execution_count": 74,
   "metadata": {},
   "outputs": [
    {
     "name": "stdout",
     "output_type": "stream",
     "text": [
      "2 3 "
     ]
    }
   ],
   "source": [
    "s.traverse()"
   ]
  }
 ],
 "metadata": {
  "kernelspec": {
   "display_name": "Python 3",
   "language": "python",
   "name": "python3"
  },
  "language_info": {
   "codemirror_mode": {
    "name": "ipython",
    "version": 3
   },
   "file_extension": ".py",
   "mimetype": "text/x-python",
   "name": "python",
   "nbconvert_exporter": "python",
   "pygments_lexer": "ipython3",
   "version": "3.11.4"
  }
 },
 "nbformat": 4,
 "nbformat_minor": 2
}
